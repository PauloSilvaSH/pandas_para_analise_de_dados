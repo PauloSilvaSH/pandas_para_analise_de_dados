{
 "cells": [
  {
   "cell_type": "code",
   "execution_count": 1,
   "metadata": {},
   "outputs": [],
   "source": [
    "import pandas as pd\n",
    "import matplotlib.pyplot as plt\n",
    "import numpy\n",
    "\n",
    "#usar a versão Python 3.12.3"
   ]
  },
  {
   "cell_type": "code",
   "execution_count": 2,
   "metadata": {},
   "outputs": [
    {
     "data": {
      "text/html": [
       "<div>\n",
       "<style scoped>\n",
       "    .dataframe tbody tr th:only-of-type {\n",
       "        vertical-align: middle;\n",
       "    }\n",
       "\n",
       "    .dataframe tbody tr th {\n",
       "        vertical-align: top;\n",
       "    }\n",
       "\n",
       "    .dataframe thead th {\n",
       "        text-align: right;\n",
       "    }\n",
       "</style>\n",
       "<table border=\"1\" class=\"dataframe\">\n",
       "  <thead>\n",
       "    <tr style=\"text-align: right;\">\n",
       "      <th></th>\n",
       "      <th>data</th>\n",
       "      <th>precip</th>\n",
       "      <th>maxima</th>\n",
       "      <th>minima</th>\n",
       "      <th>horas_insol</th>\n",
       "      <th>temp_media</th>\n",
       "      <th>um_relativa</th>\n",
       "      <th>vel_vento</th>\n",
       "    </tr>\n",
       "  </thead>\n",
       "  <tbody>\n",
       "    <tr>\n",
       "      <th>0</th>\n",
       "      <td>1961-01-01</td>\n",
       "      <td>0.0</td>\n",
       "      <td>33.8</td>\n",
       "      <td>22.2</td>\n",
       "      <td>11.7</td>\n",
       "      <td>27.08</td>\n",
       "      <td>67.00</td>\n",
       "      <td>2.333333</td>\n",
       "    </tr>\n",
       "    <tr>\n",
       "      <th>1</th>\n",
       "      <td>1961-01-02</td>\n",
       "      <td>0.0</td>\n",
       "      <td>34.7</td>\n",
       "      <td>22.5</td>\n",
       "      <td>9.5</td>\n",
       "      <td>28.06</td>\n",
       "      <td>62.50</td>\n",
       "      <td>1.333333</td>\n",
       "    </tr>\n",
       "    <tr>\n",
       "      <th>2</th>\n",
       "      <td>1961-01-03</td>\n",
       "      <td>0.2</td>\n",
       "      <td>27.7</td>\n",
       "      <td>23.1</td>\n",
       "      <td>2.3</td>\n",
       "      <td>24.32</td>\n",
       "      <td>74.25</td>\n",
       "      <td>2.000000</td>\n",
       "    </tr>\n",
       "    <tr>\n",
       "      <th>3</th>\n",
       "      <td>1961-01-04</td>\n",
       "      <td>2.4</td>\n",
       "      <td>29.4</td>\n",
       "      <td>20.6</td>\n",
       "      <td>8.7</td>\n",
       "      <td>23.56</td>\n",
       "      <td>57.50</td>\n",
       "      <td>2.333333</td>\n",
       "    </tr>\n",
       "    <tr>\n",
       "      <th>4</th>\n",
       "      <td>1961-01-05</td>\n",
       "      <td>0.0</td>\n",
       "      <td>32.5</td>\n",
       "      <td>18.8</td>\n",
       "      <td>10.1</td>\n",
       "      <td>25.22</td>\n",
       "      <td>63.50</td>\n",
       "      <td>3.666667</td>\n",
       "    </tr>\n",
       "  </tbody>\n",
       "</table>\n",
       "</div>"
      ],
      "text/plain": [
       "        data  precip  maxima  minima  horas_insol  temp_media  um_relativa  \\\n",
       "0 1961-01-01     0.0    33.8    22.2         11.7       27.08        67.00   \n",
       "1 1961-01-02     0.0    34.7    22.5          9.5       28.06        62.50   \n",
       "2 1961-01-03     0.2    27.7    23.1          2.3       24.32        74.25   \n",
       "3 1961-01-04     2.4    29.4    20.6          8.7       23.56        57.50   \n",
       "4 1961-01-05     0.0    32.5    18.8         10.1       25.22        63.50   \n",
       "\n",
       "   vel_vento  \n",
       "0   2.333333  \n",
       "1   1.333333  \n",
       "2   2.000000  \n",
       "3   2.333333  \n",
       "4   3.666667  "
      ]
     },
     "execution_count": 2,
     "metadata": {},
     "output_type": "execute_result"
    }
   ],
   "source": [
    "df = pd.read_csv('projeto_puc.csv')\n",
    "df['data'] = pd.to_datetime(df['data'] , format='%d/%m/%Y')\n",
    "\n",
    "df.head()"
   ]
  },
  {
   "cell_type": "code",
   "execution_count": 3,
   "metadata": {},
   "outputs": [],
   "source": [
    "df['ano'] = df['data'].dt.year\n",
    "df['mes'] = df['data'].dt.month"
   ]
  },
  {
   "cell_type": "code",
   "execution_count": 4,
   "metadata": {},
   "outputs": [
    {
     "name": "stdout",
     "output_type": "stream",
     "text": [
      "<class 'pandas.core.frame.DataFrame'>\n",
      "RangeIndex: 18563 entries, 0 to 18562\n",
      "Data columns (total 10 columns):\n",
      " #   Column       Non-Null Count  Dtype         \n",
      "---  ------       --------------  -----         \n",
      " 0   data         18563 non-null  datetime64[ns]\n",
      " 1   precip       18563 non-null  float64       \n",
      " 2   maxima       18563 non-null  float64       \n",
      " 3   minima       18563 non-null  float64       \n",
      " 4   horas_insol  18563 non-null  float64       \n",
      " 5   temp_media   18563 non-null  float64       \n",
      " 6   um_relativa  18563 non-null  float64       \n",
      " 7   vel_vento    18563 non-null  float64       \n",
      " 8   ano          18563 non-null  int32         \n",
      " 9   mes          18563 non-null  int32         \n",
      "dtypes: datetime64[ns](1), float64(7), int32(2)\n",
      "memory usage: 1.3 MB\n"
     ]
    }
   ],
   "source": [
    "df.info()"
   ]
  },
  {
   "cell_type": "code",
   "execution_count": 5,
   "metadata": {},
   "outputs": [],
   "source": [
    "data_inicio = input(\"Digite a data inicial (YYYY-MM-DD): \")\n",
    "data_fim = input(\"Digite a data final (YYYY-MM-DD): \")\n",
    "\n",
    "dados_filtrados = df[(df['data'] >= data_inicio) & (df['data'] <= data_fim)]"
   ]
  },
  {
   "cell_type": "code",
   "execution_count": 6,
   "metadata": {},
   "outputs": [],
   "source": [
    "#CÓDIGO CHAMA O MAIOR VALOR DE PRECIPITAÇÃO DO PERIODO SOLICITADO\n",
    "precip = (dados_filtrados)['precip'].max()\n",
    "\n",
    "#CÓDIGO CHAMA O MENOR VALOR DE TEMPERATURA MINIMA DO PERIODO SOLICITADO\n",
    "temp_min = (dados_filtrados)['minima'].min()\n",
    "\n",
    "#CÓDIGO CHAMA O VALOR DA MÉDIA DE TEMPERATURA MINIMA DO PERIODO SOLICITADO\n",
    "temp_media_min = (dados_filtrados)['minima'].mean()\n",
    "\n",
    "#CÓDIGO CHAMA O MAIOR VALOR DE TEMPERATURA DO PERIODO SOLICITADO\n",
    "temp_maxima = (dados_filtrados )['maxima'].max()\n",
    "\n",
    "#CÓDIGO CHAMA O MAIOR VALOR DE UMIDADE DO PERIODO SOLICITADO\n",
    "umidade = (dados_filtrados )['um_relativa'].max()\n",
    "\n",
    "#CÓDIGO CHAMA O MAIOR VELOCIDADE DE VENTO DO PERIODO SOLICITADO\n",
    "velocidade_vento = (dados_filtrados)['vel_vento'].max()\n",
    "\n",
    "#MAXIMO DE PRECIPITAÇÃO POR MES\n",
    "mes = (dados_filtrados)['precip'].max()\n"
   ]
  },
  {
   "cell_type": "code",
   "execution_count": 7,
   "metadata": {},
   "outputs": [
    {
     "name": "stdout",
     "output_type": "stream",
     "text": [
      "Escolha o tipo de dado que deseja visualizar:\n",
      "1) Todos os dados\n",
      "2) Apenas os de precipitação\n",
      "3) Apenas os de temperatura\n",
      "4) Apenas os de umidade e vento\n",
      "O mês mais chuvoso foi 78.7 com 78.7 mm de precipitação.\n"
     ]
    }
   ],
   "source": [
    "print(\"Escolha o tipo de dado que deseja visualizar:\")\n",
    "print(\"1) Todos os dados\")\n",
    "print(\"2) Apenas os de precipitação\")\n",
    "print(\"3) Apenas os de temperatura\")\n",
    "print(\"4) Apenas os de umidade e vento\")\n",
    "tipo_dado = int(input(\"Digite o número correspondente ao tipo de dado: \"))\n",
    "\n",
    "if tipo_dado == 1:\n",
    "    print(dados_filtrados).head(10)\n",
    "elif tipo_dado == 2:\n",
    "    print(f\"O mês mais chuvoso foi {mes} com {precip} mm de precipitação.\")\n",
    "elif tipo_dado == 3:\n",
    "    print(f'A temperatura minima foi {temp_min}°C, e a temperatura maxima foi {temp_maxima}°C')\n",
    "elif tipo_dado == 4:\n",
    "    print(f'A média de umidade dos período solicitado é{umidade}, e a média da velocidade de vento é {velocidade_vento}')\n",
    "else:\n",
    "    print(\"Tipo de dado inválido.\")"
   ]
  },
  {
   "cell_type": "code",
   "execution_count": 8,
   "metadata": {},
   "outputs": [
    {
     "data": {
      "image/png": "[encoded data removed]",
      "text/plain": [
       "<Figure size 640x480 with 1 Axes>"
      ]
     },
     "metadata": {},
     "output_type": "display_data"
    }
   ],
   "source": [
    "ano = dados_filtrados.groupby('ano')['minima'].mean().plot.bar()"
   ]
  },
  {
   "cell_type": "code",
   "execution_count": 9,
   "metadata": {},
   "outputs": [
    {
     "data": {
      "image/png": "[encoded data removed]",
      "text/plain": [
       "<Figure size 640x480 with 1 Axes>"
      ]
     },
     "metadata": {},
     "output_type": "display_data"
    }
   ],
   "source": [
    "mes = dados_filtrados.groupby('mes')['minima'].mean().plot.bar()"
   ]
  }
 ],
 "metadata": {
  "kernelspec": {
   "display_name": "Python 3",
   "language": "python",
   "name": "python3"
  },
  "language_info": {
   "codemirror_mode": {
    "name": "ipython",
    "version": 3
   },
   "file_extension": ".py",
   "mimetype": "text/x-python",
   "name": "python",
   "nbconvert_exporter": "python",
   "pygments_lexer": "ipython3",
   "version": "3.12.3"
  }
 },
 "nbformat": 4,
 "nbformat_minor": 2
}
